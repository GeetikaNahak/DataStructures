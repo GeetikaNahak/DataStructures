{
  "nbformat": 4,
  "nbformat_minor": 0,
  "metadata": {
    "colab": {
      "provenance": []
    },
    "kernelspec": {
      "name": "python3",
      "display_name": "Python 3"
    },
    "language_info": {
      "name": "python"
    }
  },
  "cells": [
    {
      "cell_type": "markdown",
      "source": [
        "Numpy"
      ],
      "metadata": {
        "id": "NtavRvIF-MsW"
      }
    },
    {
      "cell_type": "code",
      "execution_count": 1,
      "metadata": {
        "colab": {
          "base_uri": "https://localhost:8080/"
        },
        "id": "DdPCsHQy8Vf1",
        "outputId": "3b9d48a6-cfaf-4370-bbe3-0c5d9e04186a"
      },
      "outputs": [
        {
          "output_type": "stream",
          "name": "stdout",
          "text": [
            "Hello World\n"
          ]
        }
      ],
      "source": [
        "print(\"Hello World\")"
      ]
    },
    {
      "cell_type": "code",
      "source": [
        "import numpy as np\n",
        "import scipy as sc"
      ],
      "metadata": {
        "id": "14lR7umV8ji6"
      },
      "execution_count": 2,
      "outputs": []
    },
    {
      "cell_type": "code",
      "source": [
        "arr=[1,2,3,4,5,6]\n",
        "print(arr)\n",
        "arr=np.array(arr)\n",
        "\n",
        "add_5=arr+5\n",
        "square=arr*arr\n"
      ],
      "metadata": {
        "colab": {
          "base_uri": "https://localhost:8080/"
        },
        "id": "t6Kzst5-8q0F",
        "outputId": "b05e1ca1-f046-43cb-e33b-3ea9eb58cefc"
      },
      "execution_count": 3,
      "outputs": [
        {
          "output_type": "stream",
          "name": "stdout",
          "text": [
            "[1, 2, 3, 4, 5, 6]\n"
          ]
        }
      ]
    },
    {
      "cell_type": "code",
      "source": [
        "print(add_5)\n",
        "print(square)"
      ],
      "metadata": {
        "colab": {
          "base_uri": "https://localhost:8080/"
        },
        "id": "BGJEE1f49PJo",
        "outputId": "cf27e175-efff-4df1-9ef1-31ec4847d288"
      },
      "execution_count": 4,
      "outputs": [
        {
          "output_type": "stream",
          "name": "stdout",
          "text": [
            "[ 6  7  8  9 10 11]\n",
            "[ 1  4  9 16 25 36]\n"
          ]
        }
      ]
    },
    {
      "cell_type": "code",
      "source": [
        "mean=np.mean(arr)\n",
        "print(mean)"
      ],
      "metadata": {
        "colab": {
          "base_uri": "https://localhost:8080/"
        },
        "id": "geVcAQqx9r06",
        "outputId": "3fde4186-7027-4d00-c7d0-1df2e625113f"
      },
      "execution_count": 5,
      "outputs": [
        {
          "output_type": "stream",
          "name": "stdout",
          "text": [
            "3.5\n"
          ]
        }
      ]
    },
    {
      "cell_type": "code",
      "source": [
        "mat1=np.array([[1,2],[3,5]])\n",
        "mat2=np.array([[1,2],[2,3]])\n",
        "print(np.dot(mat1,mat2))"
      ],
      "metadata": {
        "id": "OPHqdO7A9xW0"
      },
      "execution_count": null,
      "outputs": []
    },
    {
      "cell_type": "markdown",
      "source": [
        "Scipy"
      ],
      "metadata": {
        "id": "hRFTTkQe-L6h"
      }
    },
    {
      "cell_type": "code",
      "source": [
        "from scipy import linalg, optimize, stats, integrate"
      ],
      "metadata": {
        "id": "FYM-xTui-WWn"
      },
      "execution_count": 8,
      "outputs": []
    },
    {
      "cell_type": "code",
      "source": [
        "A = np.array([[3, 2], [1, 4]])\n",
        "b = np.array([6, 8])\n",
        "x = linalg.solve(A, b)\n",
        "print(x)"
      ],
      "metadata": {
        "colab": {
          "base_uri": "https://localhost:8080/"
        },
        "id": "WpwlAb7yCTBA",
        "outputId": "d1ede5f0-6185-49d1-dfab-a7b590a951b4"
      },
      "execution_count": 18,
      "outputs": [
        {
          "output_type": "stream",
          "name": "stdout",
          "text": [
            "[0.8 1.8]\n"
          ]
        }
      ]
    },
    {
      "cell_type": "code",
      "source": [
        "def cost_fun(x):\n",
        "  return (x-2)**2+1\n",
        "k=optimize.minimize(cost_fun,x0=0)\n",
        "print(k.x)"
      ],
      "metadata": {
        "colab": {
          "base_uri": "https://localhost:8080/"
        },
        "id": "_Tl6sglICsyR",
        "outputId": "99ff5237-bbb5-4d09-dbd9-dfe1c6c4f407"
      },
      "execution_count": 22,
      "outputs": [
        {
          "output_type": "stream",
          "name": "stdout",
          "text": [
            "[1.99999997]\n"
          ]
        }
      ]
    },
    {
      "cell_type": "code",
      "source": [
        "def f(x):\n",
        "  return x**2\n",
        "Inter=integrate.quad(f,0,3)\n",
        "print(Inter)"
      ],
      "metadata": {
        "colab": {
          "base_uri": "https://localhost:8080/"
        },
        "id": "VMaOOKdIDaY0",
        "outputId": "7997642a-9ebf-41cb-9872-d55b496ce37d"
      },
      "execution_count": 23,
      "outputs": [
        {
          "output_type": "stream",
          "name": "stdout",
          "text": [
            "(9.000000000000002, 9.992007221626411e-14)\n"
          ]
        }
      ]
    },
    {
      "cell_type": "markdown",
      "source": [
        "Pandas\n"
      ],
      "metadata": {
        "id": "SPzRhgSUGpf_"
      }
    },
    {
      "cell_type": "code",
      "source": [
        "import pandas as pd"
      ],
      "metadata": {
        "id": "DHt_8HgGGrcw"
      },
      "execution_count": 24,
      "outputs": []
    },
    {
      "cell_type": "code",
      "source": [
        "data={\n",
        "    'Name':['A','B','C','D'],\n",
        "    'Marks':[80, 79, 45, 97],\n",
        "    'Subject':['M', 'E','M','E']\n",
        "}\n",
        "df=pd.DataFrame(data)"
      ],
      "metadata": {
        "id": "-rphQTeOGvOw"
      },
      "execution_count": 26,
      "outputs": []
    },
    {
      "cell_type": "code",
      "source": [
        "print(df)\n",
        "df.head()"
      ],
      "metadata": {
        "colab": {
          "base_uri": "https://localhost:8080/",
          "height": 261
        },
        "id": "ynielPc9HNEJ",
        "outputId": "a12e88c4-1ed5-4e1c-db09-2457f299622c"
      },
      "execution_count": 28,
      "outputs": [
        {
          "output_type": "stream",
          "name": "stdout",
          "text": [
            "  Name  Marks Subject\n",
            "0    A     80       M\n",
            "1    B     79       E\n",
            "2    C     45       M\n",
            "3    D     97       E\n"
          ]
        },
        {
          "output_type": "execute_result",
          "data": {
            "text/plain": [
              "  Name  Marks Subject\n",
              "0    A     80       M\n",
              "1    B     79       E\n",
              "2    C     45       M\n",
              "3    D     97       E"
            ],
            "text/html": [
              "\n",
              "  <div id=\"df-bb38535c-89ad-419b-a3c2-804b1931cbe2\" class=\"colab-df-container\">\n",
              "    <div>\n",
              "<style scoped>\n",
              "    .dataframe tbody tr th:only-of-type {\n",
              "        vertical-align: middle;\n",
              "    }\n",
              "\n",
              "    .dataframe tbody tr th {\n",
              "        vertical-align: top;\n",
              "    }\n",
              "\n",
              "    .dataframe thead th {\n",
              "        text-align: right;\n",
              "    }\n",
              "</style>\n",
              "<table border=\"1\" class=\"dataframe\">\n",
              "  <thead>\n",
              "    <tr style=\"text-align: right;\">\n",
              "      <th></th>\n",
              "      <th>Name</th>\n",
              "      <th>Marks</th>\n",
              "      <th>Subject</th>\n",
              "    </tr>\n",
              "  </thead>\n",
              "  <tbody>\n",
              "    <tr>\n",
              "      <th>0</th>\n",
              "      <td>A</td>\n",
              "      <td>80</td>\n",
              "      <td>M</td>\n",
              "    </tr>\n",
              "    <tr>\n",
              "      <th>1</th>\n",
              "      <td>B</td>\n",
              "      <td>79</td>\n",
              "      <td>E</td>\n",
              "    </tr>\n",
              "    <tr>\n",
              "      <th>2</th>\n",
              "      <td>C</td>\n",
              "      <td>45</td>\n",
              "      <td>M</td>\n",
              "    </tr>\n",
              "    <tr>\n",
              "      <th>3</th>\n",
              "      <td>D</td>\n",
              "      <td>97</td>\n",
              "      <td>E</td>\n",
              "    </tr>\n",
              "  </tbody>\n",
              "</table>\n",
              "</div>\n",
              "    <div class=\"colab-df-buttons\">\n",
              "\n",
              "  <div class=\"colab-df-container\">\n",
              "    <button class=\"colab-df-convert\" onclick=\"convertToInteractive('df-bb38535c-89ad-419b-a3c2-804b1931cbe2')\"\n",
              "            title=\"Convert this dataframe to an interactive table.\"\n",
              "            style=\"display:none;\">\n",
              "\n",
              "  <svg xmlns=\"http://www.w3.org/2000/svg\" height=\"24px\" viewBox=\"0 -960 960 960\">\n",
              "    <path d=\"M120-120v-720h720v720H120Zm60-500h600v-160H180v160Zm220 220h160v-160H400v160Zm0 220h160v-160H400v160ZM180-400h160v-160H180v160Zm440 0h160v-160H620v160ZM180-180h160v-160H180v160Zm440 0h160v-160H620v160Z\"/>\n",
              "  </svg>\n",
              "    </button>\n",
              "\n",
              "  <style>\n",
              "    .colab-df-container {\n",
              "      display:flex;\n",
              "      gap: 12px;\n",
              "    }\n",
              "\n",
              "    .colab-df-convert {\n",
              "      background-color: #E8F0FE;\n",
              "      border: none;\n",
              "      border-radius: 50%;\n",
              "      cursor: pointer;\n",
              "      display: none;\n",
              "      fill: #1967D2;\n",
              "      height: 32px;\n",
              "      padding: 0 0 0 0;\n",
              "      width: 32px;\n",
              "    }\n",
              "\n",
              "    .colab-df-convert:hover {\n",
              "      background-color: #E2EBFA;\n",
              "      box-shadow: 0px 1px 2px rgba(60, 64, 67, 0.3), 0px 1px 3px 1px rgba(60, 64, 67, 0.15);\n",
              "      fill: #174EA6;\n",
              "    }\n",
              "\n",
              "    .colab-df-buttons div {\n",
              "      margin-bottom: 4px;\n",
              "    }\n",
              "\n",
              "    [theme=dark] .colab-df-convert {\n",
              "      background-color: #3B4455;\n",
              "      fill: #D2E3FC;\n",
              "    }\n",
              "\n",
              "    [theme=dark] .colab-df-convert:hover {\n",
              "      background-color: #434B5C;\n",
              "      box-shadow: 0px 1px 3px 1px rgba(0, 0, 0, 0.15);\n",
              "      filter: drop-shadow(0px 1px 2px rgba(0, 0, 0, 0.3));\n",
              "      fill: #FFFFFF;\n",
              "    }\n",
              "  </style>\n",
              "\n",
              "    <script>\n",
              "      const buttonEl =\n",
              "        document.querySelector('#df-bb38535c-89ad-419b-a3c2-804b1931cbe2 button.colab-df-convert');\n",
              "      buttonEl.style.display =\n",
              "        google.colab.kernel.accessAllowed ? 'block' : 'none';\n",
              "\n",
              "      async function convertToInteractive(key) {\n",
              "        const element = document.querySelector('#df-bb38535c-89ad-419b-a3c2-804b1931cbe2');\n",
              "        const dataTable =\n",
              "          await google.colab.kernel.invokeFunction('convertToInteractive',\n",
              "                                                    [key], {});\n",
              "        if (!dataTable) return;\n",
              "\n",
              "        const docLinkHtml = 'Like what you see? Visit the ' +\n",
              "          '<a target=\"_blank\" href=https://colab.research.google.com/notebooks/data_table.ipynb>data table notebook</a>'\n",
              "          + ' to learn more about interactive tables.';\n",
              "        element.innerHTML = '';\n",
              "        dataTable['output_type'] = 'display_data';\n",
              "        await google.colab.output.renderOutput(dataTable, element);\n",
              "        const docLink = document.createElement('div');\n",
              "        docLink.innerHTML = docLinkHtml;\n",
              "        element.appendChild(docLink);\n",
              "      }\n",
              "    </script>\n",
              "  </div>\n",
              "\n",
              "\n",
              "    <div id=\"df-51c006c7-ba80-4ad3-b3eb-c9935e281d6b\">\n",
              "      <button class=\"colab-df-quickchart\" onclick=\"quickchart('df-51c006c7-ba80-4ad3-b3eb-c9935e281d6b')\"\n",
              "                title=\"Suggest charts\"\n",
              "                style=\"display:none;\">\n",
              "\n",
              "<svg xmlns=\"http://www.w3.org/2000/svg\" height=\"24px\"viewBox=\"0 0 24 24\"\n",
              "     width=\"24px\">\n",
              "    <g>\n",
              "        <path d=\"M19 3H5c-1.1 0-2 .9-2 2v14c0 1.1.9 2 2 2h14c1.1 0 2-.9 2-2V5c0-1.1-.9-2-2-2zM9 17H7v-7h2v7zm4 0h-2V7h2v10zm4 0h-2v-4h2v4z\"/>\n",
              "    </g>\n",
              "</svg>\n",
              "      </button>\n",
              "\n",
              "<style>\n",
              "  .colab-df-quickchart {\n",
              "      --bg-color: #E8F0FE;\n",
              "      --fill-color: #1967D2;\n",
              "      --hover-bg-color: #E2EBFA;\n",
              "      --hover-fill-color: #174EA6;\n",
              "      --disabled-fill-color: #AAA;\n",
              "      --disabled-bg-color: #DDD;\n",
              "  }\n",
              "\n",
              "  [theme=dark] .colab-df-quickchart {\n",
              "      --bg-color: #3B4455;\n",
              "      --fill-color: #D2E3FC;\n",
              "      --hover-bg-color: #434B5C;\n",
              "      --hover-fill-color: #FFFFFF;\n",
              "      --disabled-bg-color: #3B4455;\n",
              "      --disabled-fill-color: #666;\n",
              "  }\n",
              "\n",
              "  .colab-df-quickchart {\n",
              "    background-color: var(--bg-color);\n",
              "    border: none;\n",
              "    border-radius: 50%;\n",
              "    cursor: pointer;\n",
              "    display: none;\n",
              "    fill: var(--fill-color);\n",
              "    height: 32px;\n",
              "    padding: 0;\n",
              "    width: 32px;\n",
              "  }\n",
              "\n",
              "  .colab-df-quickchart:hover {\n",
              "    background-color: var(--hover-bg-color);\n",
              "    box-shadow: 0 1px 2px rgba(60, 64, 67, 0.3), 0 1px 3px 1px rgba(60, 64, 67, 0.15);\n",
              "    fill: var(--button-hover-fill-color);\n",
              "  }\n",
              "\n",
              "  .colab-df-quickchart-complete:disabled,\n",
              "  .colab-df-quickchart-complete:disabled:hover {\n",
              "    background-color: var(--disabled-bg-color);\n",
              "    fill: var(--disabled-fill-color);\n",
              "    box-shadow: none;\n",
              "  }\n",
              "\n",
              "  .colab-df-spinner {\n",
              "    border: 2px solid var(--fill-color);\n",
              "    border-color: transparent;\n",
              "    border-bottom-color: var(--fill-color);\n",
              "    animation:\n",
              "      spin 1s steps(1) infinite;\n",
              "  }\n",
              "\n",
              "  @keyframes spin {\n",
              "    0% {\n",
              "      border-color: transparent;\n",
              "      border-bottom-color: var(--fill-color);\n",
              "      border-left-color: var(--fill-color);\n",
              "    }\n",
              "    20% {\n",
              "      border-color: transparent;\n",
              "      border-left-color: var(--fill-color);\n",
              "      border-top-color: var(--fill-color);\n",
              "    }\n",
              "    30% {\n",
              "      border-color: transparent;\n",
              "      border-left-color: var(--fill-color);\n",
              "      border-top-color: var(--fill-color);\n",
              "      border-right-color: var(--fill-color);\n",
              "    }\n",
              "    40% {\n",
              "      border-color: transparent;\n",
              "      border-right-color: var(--fill-color);\n",
              "      border-top-color: var(--fill-color);\n",
              "    }\n",
              "    60% {\n",
              "      border-color: transparent;\n",
              "      border-right-color: var(--fill-color);\n",
              "    }\n",
              "    80% {\n",
              "      border-color: transparent;\n",
              "      border-right-color: var(--fill-color);\n",
              "      border-bottom-color: var(--fill-color);\n",
              "    }\n",
              "    90% {\n",
              "      border-color: transparent;\n",
              "      border-bottom-color: var(--fill-color);\n",
              "    }\n",
              "  }\n",
              "</style>\n",
              "\n",
              "      <script>\n",
              "        async function quickchart(key) {\n",
              "          const quickchartButtonEl =\n",
              "            document.querySelector('#' + key + ' button');\n",
              "          quickchartButtonEl.disabled = true;  // To prevent multiple clicks.\n",
              "          quickchartButtonEl.classList.add('colab-df-spinner');\n",
              "          try {\n",
              "            const charts = await google.colab.kernel.invokeFunction(\n",
              "                'suggestCharts', [key], {});\n",
              "          } catch (error) {\n",
              "            console.error('Error during call to suggestCharts:', error);\n",
              "          }\n",
              "          quickchartButtonEl.classList.remove('colab-df-spinner');\n",
              "          quickchartButtonEl.classList.add('colab-df-quickchart-complete');\n",
              "        }\n",
              "        (() => {\n",
              "          let quickchartButtonEl =\n",
              "            document.querySelector('#df-51c006c7-ba80-4ad3-b3eb-c9935e281d6b button');\n",
              "          quickchartButtonEl.style.display =\n",
              "            google.colab.kernel.accessAllowed ? 'block' : 'none';\n",
              "        })();\n",
              "      </script>\n",
              "    </div>\n",
              "\n",
              "    </div>\n",
              "  </div>\n"
            ],
            "application/vnd.google.colaboratory.intrinsic+json": {
              "type": "dataframe",
              "variable_name": "df",
              "summary": "{\n  \"name\": \"df\",\n  \"rows\": 4,\n  \"fields\": [\n    {\n      \"column\": \"Name\",\n      \"properties\": {\n        \"dtype\": \"string\",\n        \"num_unique_values\": 4,\n        \"samples\": [\n          \"B\",\n          \"D\",\n          \"A\"\n        ],\n        \"semantic_type\": \"\",\n        \"description\": \"\"\n      }\n    },\n    {\n      \"column\": \"Marks\",\n      \"properties\": {\n        \"dtype\": \"number\",\n        \"std\": 21,\n        \"min\": 45,\n        \"max\": 97,\n        \"num_unique_values\": 4,\n        \"samples\": [\n          79,\n          97,\n          80\n        ],\n        \"semantic_type\": \"\",\n        \"description\": \"\"\n      }\n    },\n    {\n      \"column\": \"Subject\",\n      \"properties\": {\n        \"dtype\": \"string\",\n        \"num_unique_values\": 2,\n        \"samples\": [\n          \"E\",\n          \"M\"\n        ],\n        \"semantic_type\": \"\",\n        \"description\": \"\"\n      }\n    }\n  ]\n}"
            }
          },
          "metadata": {},
          "execution_count": 28
        }
      ]
    },
    {
      "cell_type": "code",
      "source": [
        "df.describe()"
      ],
      "metadata": {
        "colab": {
          "base_uri": "https://localhost:8080/",
          "height": 300
        },
        "id": "oFY4wl2PHZvD",
        "outputId": "e3894367-8979-4135-a2d4-c2b35fc06d87"
      },
      "execution_count": 29,
      "outputs": [
        {
          "output_type": "execute_result",
          "data": {
            "text/plain": [
              "           Marks\n",
              "count   4.000000\n",
              "mean   75.250000\n",
              "std    21.792583\n",
              "min    45.000000\n",
              "25%    70.500000\n",
              "50%    79.500000\n",
              "75%    84.250000\n",
              "max    97.000000"
            ],
            "text/html": [
              "\n",
              "  <div id=\"df-5451fdd9-2572-46fe-b4fa-30360394db1f\" class=\"colab-df-container\">\n",
              "    <div>\n",
              "<style scoped>\n",
              "    .dataframe tbody tr th:only-of-type {\n",
              "        vertical-align: middle;\n",
              "    }\n",
              "\n",
              "    .dataframe tbody tr th {\n",
              "        vertical-align: top;\n",
              "    }\n",
              "\n",
              "    .dataframe thead th {\n",
              "        text-align: right;\n",
              "    }\n",
              "</style>\n",
              "<table border=\"1\" class=\"dataframe\">\n",
              "  <thead>\n",
              "    <tr style=\"text-align: right;\">\n",
              "      <th></th>\n",
              "      <th>Marks</th>\n",
              "    </tr>\n",
              "  </thead>\n",
              "  <tbody>\n",
              "    <tr>\n",
              "      <th>count</th>\n",
              "      <td>4.000000</td>\n",
              "    </tr>\n",
              "    <tr>\n",
              "      <th>mean</th>\n",
              "      <td>75.250000</td>\n",
              "    </tr>\n",
              "    <tr>\n",
              "      <th>std</th>\n",
              "      <td>21.792583</td>\n",
              "    </tr>\n",
              "    <tr>\n",
              "      <th>min</th>\n",
              "      <td>45.000000</td>\n",
              "    </tr>\n",
              "    <tr>\n",
              "      <th>25%</th>\n",
              "      <td>70.500000</td>\n",
              "    </tr>\n",
              "    <tr>\n",
              "      <th>50%</th>\n",
              "      <td>79.500000</td>\n",
              "    </tr>\n",
              "    <tr>\n",
              "      <th>75%</th>\n",
              "      <td>84.250000</td>\n",
              "    </tr>\n",
              "    <tr>\n",
              "      <th>max</th>\n",
              "      <td>97.000000</td>\n",
              "    </tr>\n",
              "  </tbody>\n",
              "</table>\n",
              "</div>\n",
              "    <div class=\"colab-df-buttons\">\n",
              "\n",
              "  <div class=\"colab-df-container\">\n",
              "    <button class=\"colab-df-convert\" onclick=\"convertToInteractive('df-5451fdd9-2572-46fe-b4fa-30360394db1f')\"\n",
              "            title=\"Convert this dataframe to an interactive table.\"\n",
              "            style=\"display:none;\">\n",
              "\n",
              "  <svg xmlns=\"http://www.w3.org/2000/svg\" height=\"24px\" viewBox=\"0 -960 960 960\">\n",
              "    <path d=\"M120-120v-720h720v720H120Zm60-500h600v-160H180v160Zm220 220h160v-160H400v160Zm0 220h160v-160H400v160ZM180-400h160v-160H180v160Zm440 0h160v-160H620v160ZM180-180h160v-160H180v160Zm440 0h160v-160H620v160Z\"/>\n",
              "  </svg>\n",
              "    </button>\n",
              "\n",
              "  <style>\n",
              "    .colab-df-container {\n",
              "      display:flex;\n",
              "      gap: 12px;\n",
              "    }\n",
              "\n",
              "    .colab-df-convert {\n",
              "      background-color: #E8F0FE;\n",
              "      border: none;\n",
              "      border-radius: 50%;\n",
              "      cursor: pointer;\n",
              "      display: none;\n",
              "      fill: #1967D2;\n",
              "      height: 32px;\n",
              "      padding: 0 0 0 0;\n",
              "      width: 32px;\n",
              "    }\n",
              "\n",
              "    .colab-df-convert:hover {\n",
              "      background-color: #E2EBFA;\n",
              "      box-shadow: 0px 1px 2px rgba(60, 64, 67, 0.3), 0px 1px 3px 1px rgba(60, 64, 67, 0.15);\n",
              "      fill: #174EA6;\n",
              "    }\n",
              "\n",
              "    .colab-df-buttons div {\n",
              "      margin-bottom: 4px;\n",
              "    }\n",
              "\n",
              "    [theme=dark] .colab-df-convert {\n",
              "      background-color: #3B4455;\n",
              "      fill: #D2E3FC;\n",
              "    }\n",
              "\n",
              "    [theme=dark] .colab-df-convert:hover {\n",
              "      background-color: #434B5C;\n",
              "      box-shadow: 0px 1px 3px 1px rgba(0, 0, 0, 0.15);\n",
              "      filter: drop-shadow(0px 1px 2px rgba(0, 0, 0, 0.3));\n",
              "      fill: #FFFFFF;\n",
              "    }\n",
              "  </style>\n",
              "\n",
              "    <script>\n",
              "      const buttonEl =\n",
              "        document.querySelector('#df-5451fdd9-2572-46fe-b4fa-30360394db1f button.colab-df-convert');\n",
              "      buttonEl.style.display =\n",
              "        google.colab.kernel.accessAllowed ? 'block' : 'none';\n",
              "\n",
              "      async function convertToInteractive(key) {\n",
              "        const element = document.querySelector('#df-5451fdd9-2572-46fe-b4fa-30360394db1f');\n",
              "        const dataTable =\n",
              "          await google.colab.kernel.invokeFunction('convertToInteractive',\n",
              "                                                    [key], {});\n",
              "        if (!dataTable) return;\n",
              "\n",
              "        const docLinkHtml = 'Like what you see? Visit the ' +\n",
              "          '<a target=\"_blank\" href=https://colab.research.google.com/notebooks/data_table.ipynb>data table notebook</a>'\n",
              "          + ' to learn more about interactive tables.';\n",
              "        element.innerHTML = '';\n",
              "        dataTable['output_type'] = 'display_data';\n",
              "        await google.colab.output.renderOutput(dataTable, element);\n",
              "        const docLink = document.createElement('div');\n",
              "        docLink.innerHTML = docLinkHtml;\n",
              "        element.appendChild(docLink);\n",
              "      }\n",
              "    </script>\n",
              "  </div>\n",
              "\n",
              "\n",
              "    <div id=\"df-a254231d-49a6-4d14-a413-6bd474a45294\">\n",
              "      <button class=\"colab-df-quickchart\" onclick=\"quickchart('df-a254231d-49a6-4d14-a413-6bd474a45294')\"\n",
              "                title=\"Suggest charts\"\n",
              "                style=\"display:none;\">\n",
              "\n",
              "<svg xmlns=\"http://www.w3.org/2000/svg\" height=\"24px\"viewBox=\"0 0 24 24\"\n",
              "     width=\"24px\">\n",
              "    <g>\n",
              "        <path d=\"M19 3H5c-1.1 0-2 .9-2 2v14c0 1.1.9 2 2 2h14c1.1 0 2-.9 2-2V5c0-1.1-.9-2-2-2zM9 17H7v-7h2v7zm4 0h-2V7h2v10zm4 0h-2v-4h2v4z\"/>\n",
              "    </g>\n",
              "</svg>\n",
              "      </button>\n",
              "\n",
              "<style>\n",
              "  .colab-df-quickchart {\n",
              "      --bg-color: #E8F0FE;\n",
              "      --fill-color: #1967D2;\n",
              "      --hover-bg-color: #E2EBFA;\n",
              "      --hover-fill-color: #174EA6;\n",
              "      --disabled-fill-color: #AAA;\n",
              "      --disabled-bg-color: #DDD;\n",
              "  }\n",
              "\n",
              "  [theme=dark] .colab-df-quickchart {\n",
              "      --bg-color: #3B4455;\n",
              "      --fill-color: #D2E3FC;\n",
              "      --hover-bg-color: #434B5C;\n",
              "      --hover-fill-color: #FFFFFF;\n",
              "      --disabled-bg-color: #3B4455;\n",
              "      --disabled-fill-color: #666;\n",
              "  }\n",
              "\n",
              "  .colab-df-quickchart {\n",
              "    background-color: var(--bg-color);\n",
              "    border: none;\n",
              "    border-radius: 50%;\n",
              "    cursor: pointer;\n",
              "    display: none;\n",
              "    fill: var(--fill-color);\n",
              "    height: 32px;\n",
              "    padding: 0;\n",
              "    width: 32px;\n",
              "  }\n",
              "\n",
              "  .colab-df-quickchart:hover {\n",
              "    background-color: var(--hover-bg-color);\n",
              "    box-shadow: 0 1px 2px rgba(60, 64, 67, 0.3), 0 1px 3px 1px rgba(60, 64, 67, 0.15);\n",
              "    fill: var(--button-hover-fill-color);\n",
              "  }\n",
              "\n",
              "  .colab-df-quickchart-complete:disabled,\n",
              "  .colab-df-quickchart-complete:disabled:hover {\n",
              "    background-color: var(--disabled-bg-color);\n",
              "    fill: var(--disabled-fill-color);\n",
              "    box-shadow: none;\n",
              "  }\n",
              "\n",
              "  .colab-df-spinner {\n",
              "    border: 2px solid var(--fill-color);\n",
              "    border-color: transparent;\n",
              "    border-bottom-color: var(--fill-color);\n",
              "    animation:\n",
              "      spin 1s steps(1) infinite;\n",
              "  }\n",
              "\n",
              "  @keyframes spin {\n",
              "    0% {\n",
              "      border-color: transparent;\n",
              "      border-bottom-color: var(--fill-color);\n",
              "      border-left-color: var(--fill-color);\n",
              "    }\n",
              "    20% {\n",
              "      border-color: transparent;\n",
              "      border-left-color: var(--fill-color);\n",
              "      border-top-color: var(--fill-color);\n",
              "    }\n",
              "    30% {\n",
              "      border-color: transparent;\n",
              "      border-left-color: var(--fill-color);\n",
              "      border-top-color: var(--fill-color);\n",
              "      border-right-color: var(--fill-color);\n",
              "    }\n",
              "    40% {\n",
              "      border-color: transparent;\n",
              "      border-right-color: var(--fill-color);\n",
              "      border-top-color: var(--fill-color);\n",
              "    }\n",
              "    60% {\n",
              "      border-color: transparent;\n",
              "      border-right-color: var(--fill-color);\n",
              "    }\n",
              "    80% {\n",
              "      border-color: transparent;\n",
              "      border-right-color: var(--fill-color);\n",
              "      border-bottom-color: var(--fill-color);\n",
              "    }\n",
              "    90% {\n",
              "      border-color: transparent;\n",
              "      border-bottom-color: var(--fill-color);\n",
              "    }\n",
              "  }\n",
              "</style>\n",
              "\n",
              "      <script>\n",
              "        async function quickchart(key) {\n",
              "          const quickchartButtonEl =\n",
              "            document.querySelector('#' + key + ' button');\n",
              "          quickchartButtonEl.disabled = true;  // To prevent multiple clicks.\n",
              "          quickchartButtonEl.classList.add('colab-df-spinner');\n",
              "          try {\n",
              "            const charts = await google.colab.kernel.invokeFunction(\n",
              "                'suggestCharts', [key], {});\n",
              "          } catch (error) {\n",
              "            console.error('Error during call to suggestCharts:', error);\n",
              "          }\n",
              "          quickchartButtonEl.classList.remove('colab-df-spinner');\n",
              "          quickchartButtonEl.classList.add('colab-df-quickchart-complete');\n",
              "        }\n",
              "        (() => {\n",
              "          let quickchartButtonEl =\n",
              "            document.querySelector('#df-a254231d-49a6-4d14-a413-6bd474a45294 button');\n",
              "          quickchartButtonEl.style.display =\n",
              "            google.colab.kernel.accessAllowed ? 'block' : 'none';\n",
              "        })();\n",
              "      </script>\n",
              "    </div>\n",
              "\n",
              "    </div>\n",
              "  </div>\n"
            ],
            "application/vnd.google.colaboratory.intrinsic+json": {
              "type": "dataframe",
              "summary": "{\n  \"name\": \"df\",\n  \"rows\": 8,\n  \"fields\": [\n    {\n      \"column\": \"Marks\",\n      \"properties\": {\n        \"dtype\": \"number\",\n        \"std\": 32.73271727814468,\n        \"min\": 4.0,\n        \"max\": 97.0,\n        \"num_unique_values\": 8,\n        \"samples\": [\n          75.25,\n          79.5,\n          4.0\n        ],\n        \"semantic_type\": \"\",\n        \"description\": \"\"\n      }\n    }\n  ]\n}"
            }
          },
          "metadata": {},
          "execution_count": 29
        }
      ]
    },
    {
      "cell_type": "code",
      "source": [
        "print(df[df['Marks']>80])"
      ],
      "metadata": {
        "colab": {
          "base_uri": "https://localhost:8080/"
        },
        "id": "BiMzpPN4HcJv",
        "outputId": "559d8f38-51ed-49bd-890a-ca70121576a1"
      },
      "execution_count": 32,
      "outputs": [
        {
          "output_type": "stream",
          "name": "stdout",
          "text": [
            "  Name  Marks Subject\n",
            "3    D     97       E\n"
          ]
        }
      ]
    },
    {
      "cell_type": "code",
      "source": [
        "print(df.groupby('Subject')['Marks'].mean())"
      ],
      "metadata": {
        "colab": {
          "base_uri": "https://localhost:8080/"
        },
        "id": "LSRLyqmuHtDP",
        "outputId": "a8deb15b-3304-416b-8c14-28c2468c0231"
      },
      "execution_count": 35,
      "outputs": [
        {
          "output_type": "stream",
          "name": "stdout",
          "text": [
            "Subject\n",
            "E    88.0\n",
            "M    62.5\n",
            "Name: Marks, dtype: float64\n"
          ]
        }
      ]
    },
    {
      "cell_type": "markdown",
      "source": [
        "Matplotlib"
      ],
      "metadata": {
        "id": "Dko46rKzIT6e"
      }
    },
    {
      "cell_type": "code",
      "source": [
        "import matplotlib.pyplot as plt"
      ],
      "metadata": {
        "id": "fMO103UPITd4"
      },
      "execution_count": 36,
      "outputs": []
    },
    {
      "cell_type": "code",
      "source": [
        "plt.bar(df['Name'],df['Marks'],color='blue')\n",
        "plt.title('Marks of Students')\n",
        "plt.xlabel('Names')\n",
        "plt.ylabel('Marks')\n",
        "plt.show()"
      ],
      "metadata": {
        "colab": {
          "base_uri": "https://localhost:8080/",
          "height": 472
        },
        "id": "jIipgEgJIhs3",
        "outputId": "25fc8ef8-0570-4613-d3f7-28415e87b51b"
      },
      "execution_count": 38,
      "outputs": [
        {
          "output_type": "display_data",
          "data": {
            "text/plain": [
              "<Figure size 640x480 with 1 Axes>"
            ],
            "image/png": "[encoded data removed]"
          },
          "metadata": {}
        }
      ]
    },
    {
      "cell_type": "code",
      "source": [
        "days=[1,2,3,4,5,6,7]\n",
        "temperatures=[28,40,39,26,36,35,45]\n",
        "plt.plot(days,temperatures,marker='o',linestyle='-',color='green')\n",
        "plt.title('Weather')\n",
        "plt.xlabel('days')\n",
        "plt.ylabel('temperature')\n",
        "plt.show()"
      ],
      "metadata": {
        "colab": {
          "base_uri": "https://localhost:8080/",
          "height": 472
        },
        "id": "wJBrtUQuI9xY",
        "outputId": "751bca2e-f126-4317-cef6-4cf4c41107f0"
      },
      "execution_count": 41,
      "outputs": [
        {
          "output_type": "display_data",
          "data": {
            "text/plain": [
              "<Figure size 640x480 with 1 Axes>"
            ],
            "image/png": "[encoded data removed]"
          },
          "metadata": {}
        }
      ]
    },
    {
      "cell_type": "code",
      "source": [
        "plt.hist(df['Marks'],bins=4,color='orange',edgecolor='black')\n",
        "plt.title('Marks Histogram')\n",
        "plt.xlabel('Marks')\n",
        "plt.ylabel('frequency')\n",
        "plt.show()"
      ],
      "metadata": {
        "colab": {
          "base_uri": "https://localhost:8080/",
          "height": 472
        },
        "id": "hglhCq7GJm3Q",
        "outputId": "5cc46496-79d0-4357-b472-ed7e10527d43"
      },
      "execution_count": 44,
      "outputs": [
        {
          "output_type": "display_data",
          "data": {
            "text/plain": [
              "<Figure size 640x480 with 1 Axes>"
            ],
            "image/png": "[encoded data removed]"
          },
          "metadata": {}
        }
      ]
    },
    {
      "cell_type": "code",
      "source": [
        "s_count=df['Subject'].value_counts()\n",
        "plt.pie(s_count,labels=s_count.index,autopct='%1.1f%%', startangle=90)\n",
        "plt.title('Piechart')\n",
        "plt.axis('equal')\n",
        "plt.show()"
      ],
      "metadata": {
        "colab": {
          "base_uri": "https://localhost:8080/",
          "height": 428
        },
        "id": "-ABacjkFKMGB",
        "outputId": "643b417c-ad5b-491d-d0d4-641fec89540a"
      },
      "execution_count": 46,
      "outputs": [
        {
          "output_type": "display_data",
          "data": {
            "text/plain": [
              "<Figure size 640x480 with 1 Axes>"
            ],
            "image/png": "[encoded data removed]"
          },
          "metadata": {}
        }
      ]
    },
    {
      "cell_type": "code",
      "source": [
        "a=np.random.randint(50,100,size=10)\n",
        "b=np.random.randint(50,100,size=10)\n",
        "plt.scatter(a,b,color='red')\n",
        "plt.show()"
      ],
      "metadata": {
        "colab": {
          "base_uri": "https://localhost:8080/",
          "height": 430
        },
        "id": "XlwUgwv6LO-8",
        "outputId": "3d3418d9-ab7b-4623-ee3d-ef8e70ef1a44"
      },
      "execution_count": 48,
      "outputs": [
        {
          "output_type": "display_data",
          "data": {
            "text/plain": [
              "<Figure size 640x480 with 1 Axes>"
            ],
            "image/png": "[encoded data removed]"
          },
          "metadata": {}
        }
      ]
    },
    {
      "cell_type": "markdown",
      "source": [
        "Simple linear Regression"
      ],
      "metadata": {
        "id": "JuALCzLtMQM-"
      }
    },
    {
      "cell_type": "code",
      "source": [
        "class SimpleLinearRegression:\n",
        "  def __init__(self):\n",
        "    self.slope=0\n",
        "    self.intercept=0\n",
        "  def fit(self,x,y):\n",
        "    x=np.array(x)\n",
        "    y=np.array(y)\n",
        "    x_mean=np.mean(x)\n",
        "    y_mean=np.mean(y)\n",
        "    numerator=np.sum((x-x_mean)*(y-y_mean))\n",
        "    denomenator=np.sum((x-x_mean)**2)\n",
        "    self.slope=numerator/denomenator\n",
        "    self.intercept=y_mean-self.slope*x_mean\n",
        "\n",
        "  def predict(self,x):\n",
        "    x=np.array(x)\n",
        "    return self.slope*x+self.intercept\n",
        "\n",
        "x=[1,2,3,4,5,6,7,8,9,0,4,5,6,7]\n",
        "y=[0,1,0,1,0,1,0,1,0,0,0,1,0,1]\n",
        "z=[3,4,5,6,7,8]\n",
        "z_pred=[1,0,1,0,1,0]\n",
        "regressor=SimpleLinearRegression()\n",
        "regressor.fit(x,y)\n",
        "y_pred=regressor.predict(z)\n",
        "print(y_pred)\n",
        ""
      ],
      "metadata": {
        "colab": {
          "base_uri": "https://localhost:8080/"
        },
        "id": "ie9kFPceMHUJ",
        "outputId": "70e9db10-d656-4ddd-e244-f33e63563e7e"
      },
      "execution_count": 54,
      "outputs": [
        {
          "output_type": "stream",
          "name": "stdout",
          "text": [
            "[0.36363636 0.4        0.43636364 0.47272727 0.50909091 0.54545455]\n"
          ]
        }
      ]
    },
    {
      "cell_type": "code",
      "source": [
        "plt.scatter(z, z_pred, color='blue', label='Actual')\n",
        "plt.plot(z, y_pred, color='red', label='Predicted Line')\n",
        "plt.title('Simple Linear Regression (Manual Implementation)')\n",
        "plt.xlabel('Hours Studied')\n",
        "plt.ylabel('Marks Obtained')\n",
        "plt.legend()\n",
        "plt.grid(True)\n",
        "plt.show()\n"
      ],
      "metadata": {
        "colab": {
          "base_uri": "https://localhost:8080/",
          "height": 472
        },
        "id": "F8Ft4HMsQPE_",
        "outputId": "24a21c5c-cfa3-44b9-a3d4-f134363c327e"
      },
      "execution_count": 57,
      "outputs": [
        {
          "output_type": "display_data",
          "data": {
            "text/plain": [
              "<Figure size 640x480 with 1 Axes>"
            ],
            "image/png": "[encoded data removed]"
          },
          "metadata": {}
        }
      ]
    },
    {
      "cell_type": "markdown",
      "source": [
        "Multi Linear Regression"
      ],
      "metadata": {
        "id": "uZf-9vcVUD1r"
      }
    },
    {
      "cell_type": "code",
      "source": [
        "from sklearn.datasets import make_regression"
      ],
      "metadata": {
        "id": "UyVHEbGmUC_0"
      },
      "execution_count": 66,
      "outputs": []
    },
    {
      "cell_type": "code",
      "source": [
        "x,y=make_regression(n_samples=100,n_features=2,noise=10,random_state=1)"
      ],
      "metadata": {
        "id": "JaDNG2beUY4T"
      },
      "execution_count": 67,
      "outputs": []
    },
    {
      "cell_type": "code",
      "source": [
        "y=y+50"
      ],
      "metadata": {
        "id": "07zDXHDYUnEt"
      },
      "execution_count": 68,
      "outputs": []
    },
    {
      "cell_type": "code",
      "source": [
        "print(x,y)"
      ],
      "metadata": {
        "colab": {
          "base_uri": "https://localhost:8080/"
        },
        "collapsed": true,
        "id": "V63aMuqrg6ay",
        "outputId": "7423138b-d8bd-483d-e044-bc8eb9a87881"
      },
      "execution_count": 71,
      "outputs": [
        {
          "output_type": "stream",
          "name": "stdout",
          "text": [
            "[[ 0.0465673   0.80186103]\n",
            " [-2.02220122  0.31563495]\n",
            " [-0.38405435 -0.3224172 ]\n",
            " [-1.31228341  0.35054598]\n",
            " [-0.88762896 -0.19183555]\n",
            " [-1.61577235 -0.03869551]\n",
            " [-2.43483776 -0.31011677]\n",
            " [ 2.10025514  0.19091548]\n",
            " [-0.50446586 -1.44411381]\n",
            " [ 1.14472371 -1.10061918]\n",
            " [ 0.58281521  0.04221375]\n",
            " [ 0.07734007  0.42349435]\n",
            " [ 1.1110567   1.90465871]\n",
            " [ 0.61838026  0.07782113]\n",
            " [-0.24863478  2.52832571]\n",
            " [-1.89636092  2.19069973]\n",
            " [-0.77516162 -0.02461696]\n",
            " [ 0.5505375  -1.23005814]\n",
            " [-0.85951594  0.84616065]\n",
            " [-0.61736206 -0.11044703]\n",
            " [ 0.2135339   0.98633519]\n",
            " [-2.3015387   0.86540763]\n",
            " [-0.3198016   0.68006984]\n",
            " [ 0.40890054  1.12141771]\n",
            " [ 0.13770121  0.52946532]\n",
            " [-0.63873041 -0.37528495]\n",
            " [-0.17470316  0.49521132]\n",
            " [-0.87785842 -0.17242821]\n",
            " [-0.35224985  0.30017032]\n",
            " [-0.9537006   0.74055645]\n",
            " [-0.93576943 -0.12289023]\n",
            " [ 0.03261455 -0.26621851]\n",
            " [-0.68372786  0.90085595]\n",
            " [ 0.41005165  0.18656139]\n",
            " [-0.11905419 -0.13644474]\n",
            " [-1.14434139  0.52057634]\n",
            " [ 1.2245077  -0.44712856]\n",
            " [-0.7612069   1.74481176]\n",
            " [-0.24937038  0.3190391 ]\n",
            " [ 1.6924546  -0.74715829]\n",
            " [-0.0731127   0.28066508]\n",
            " [-1.39649634  2.18557541]\n",
            " [ 0.86334532 -1.19926803]\n",
            " [ 0.31515939 -1.37311732]\n",
            " [-1.07296862 -0.52817175]\n",
            " [ 0.4202822   0.60231928]\n",
            " [-0.34934272 -1.1425182 ]\n",
            " [ 0.87616892  0.16003707]\n",
            " [ 0.53035547 -0.26788808]\n",
            " [-1.09989127  1.13376944]\n",
            " [ 1.96710175  1.27375593]\n",
            " [ 1.51981682  1.13162939]\n",
            " [-0.10015523  0.44136444]\n",
            " [-0.61175641  1.62434536]\n",
            " [ 0.82797464 -0.30620401]\n",
            " [ 0.61720311  0.12015895]\n",
            " [ 0.68255141  0.23249456]\n",
            " [-0.0126646  -0.67124613]\n",
            " [-0.84520564 -0.6871727 ]\n",
            " [ 1.12948391  0.12182127]\n",
            " [-0.20075807 -0.22232814]\n",
            " [ 0.90148689 -0.64691669]\n",
            " [ 0.76201118  0.23009474]\n",
            " [-0.62353073  0.79280687]\n",
            " [-0.28730786  1.33145711]\n",
            " [ 0.11900865  0.19829972]\n",
            " [ 0.3380117   1.62765075]\n",
            " [-0.29664115  0.24879916]\n",
            " [-0.99702683 -0.51709446]\n",
            " [-1.12201873  0.01740941]\n",
            " [-0.60392063 -0.1809203 ]\n",
            " [ 0.50249434  0.90159072]\n",
            " [-0.10174587 -0.18656977]\n",
            " [ 0.74204416  1.65980218]\n",
            " [ 0.37756379 -0.67066229]\n",
            " [ 0.58662319 -0.20889423]\n",
            " [ 0.93110208  0.83898341]\n",
            " [ 0.04359686 -0.34385368]\n",
            " [ 0.75041164  0.86888616]\n",
            " [-0.39675353 -0.69166075]\n",
            " [ 0.36949272  1.16033857]\n",
            " [ 0.18515642  1.19891788]\n",
            " [ 0.69803203 -0.62000084]\n",
            " [-0.29809284  0.51292982]\n",
            " [ 0.16938243 -1.09491185]\n",
            " [-0.22631424  0.04366899]\n",
            " [ 0.88514116  0.28558733]\n",
            " [ 0.2344157  -1.11731035]\n",
            " [ 0.31354772 -1.27255876]\n",
            " [-1.62743834  0.6590498 ]\n",
            " [ 0.24073709  0.5627611 ]\n",
            " [ 1.29322588  0.50318481]\n",
            " [-2.06014071  1.46210794]\n",
            " [-0.63699565  0.05080775]\n",
            " [ 1.25286816 -0.75439794]\n",
            " [ 1.04444209  0.81095167]\n",
            " [ 1.23616403 -1.85798186]\n",
            " [ 2.18697965  1.0388246 ]\n",
            " [-0.07557171  0.48851815]\n",
            " [ 0.59357852  0.40349164]] [136.25546612  20.28369976  -1.45616226  31.88910288  20.36216661\n",
            "  -4.42082335 -43.05401414 158.76917953 -97.77636788   2.93562464\n",
            "  59.02887309  76.04856359 240.95126314  68.00356014 249.38088463\n",
            " 178.35479769  30.80918335 -35.80620376  99.70916278  19.68590087\n",
            " 144.26822887  37.22691265  97.90300408 144.88189428  91.44172936\n",
            "  15.05212071  87.7801633    3.50211822  62.59429492  72.79958197\n",
            "  17.93928068  48.55010164  93.44601128  65.39323168  26.54386333\n",
            "  66.43707868  22.928342   158.66580219  53.0263528   41.11602315\n",
            "  76.07673063 182.05303395 -22.96826063 -52.67695316 -10.73323924\n",
            " 136.28880406 -67.04495891  75.36522347  50.18881139 132.08142411\n",
            " 219.8438322  184.53742597  98.92166864 165.05804417  45.26432564\n",
            "  74.84572407  77.71455299  -7.145494   -22.60244631 103.16288893\n",
            "  24.28319319  24.93652909  91.37001951  91.08365498 153.96505987\n",
            "  62.36962214 213.63460328  71.15063014 -25.91966242  10.92450552\n",
            "  17.49711547 138.28996126  38.17633764 222.45824777  10.95300605\n",
            "  48.83679434 154.99997953  18.23147267 158.17686672 -26.94469843\n",
            " 170.07941688 155.18691098  16.61797221 102.64442065 -35.52390746\n",
            "  47.28163511 105.26856193 -22.85553625 -44.96913209  60.31826092\n",
            " 103.44404887 128.42245235 101.01384199  21.6401429   31.82172719\n",
            " 139.09569636 -69.3895642  207.83212855  88.5881876  123.40996155]\n"
          ]
        }
      ]
    },
    {
      "cell_type": "code",
      "source": [
        "class MultipleLinearRegression:\n",
        "  def __init__(self):\n",
        "    self.cofficients=None\n",
        "    self.intercept=None\n",
        "  def fit(self,x,y):\n",
        "    ones=np.ones((x.shape[0],1))\n",
        "    x_b=np.hstack([ones,x])\n",
        "    beta=np.linalg.inv(x_b.T.dot(x_b)).dot(x_b.T.dot(y))\n",
        "    self.intercept=beta[0]\n",
        "    self.cofficients=beta[1:]\n",
        "  def predict(self,x):\n",
        "    return x.dot(self.cofficients)+self.intercept"
      ],
      "metadata": {
        "id": "EGW5grl9UyUZ"
      },
      "execution_count": 74,
      "outputs": []
    },
    {
      "cell_type": "code",
      "source": [
        "regressor=MultipleLinearRegression()\n",
        "regressor.fit(x,y)\n",
        "y_pred=regressor.predict(x)\n",
        "print(y_pred)"
      ],
      "metadata": {
        "colab": {
          "base_uri": "https://localhost:8080/"
        },
        "collapsed": true,
        "id": "vr0OVTs4gdEt",
        "outputId": "7102d069-d783-43fd-d981-801a6de64dfe"
      },
      "execution_count": 75,
      "outputs": [
        {
          "output_type": "stream",
          "name": "stdout",
          "text": [
            "[119.28675103  13.82882728  11.7266488   38.97703252   6.887019\n",
            "  -3.09601567 -51.45231618 132.46303407 -85.90501686  -5.52727307\n",
            "  72.51019882  88.5891321  244.89524384  76.60327534 254.51189276\n",
            " 174.67104642  24.40084479 -34.96196094  94.6249905   22.15929556\n",
            " 139.95081738  51.08706767  97.62477738 157.37105504  99.34645959\n",
            "  -0.67092097  86.6990334    8.8169003   64.81949775  82.83936906\n",
            "  11.14901182  29.47480217 104.7055733   79.17989009  35.58543632\n",
            "  58.46300569  51.65369036 172.90057586  69.61947194  41.19871717\n",
            "  71.9268729  189.89257707 -22.5917561  -54.30239668 -27.05985228\n",
            " 114.29012122 -55.81123283  91.55410576  44.91893022 111.16566865\n",
            " 218.90438564 193.00737335  84.52724768 167.49931469  51.03091481\n",
            "  80.10917772  91.55523079  -5.8348793  -33.23372356  96.28734384\n",
            "  25.84078045  24.8222554   93.84223394  97.54892738 153.14912\n",
            "  71.04983058 197.51231734  62.26190538 -23.7552514   17.05774598\n",
            "  16.68304998 141.90664271  31.93296652 212.85259938   6.43168706\n",
            "  51.6171296  150.08710404  23.32226826 146.93205481 -19.56863063\n",
            " 159.39406272 156.85090538  20.70453342  84.31846401 -35.58677998\n",
            "  47.29883208 102.34085325 -35.42491411 -45.93828503  54.92488674\n",
            " 105.35855768 133.32582278 108.57590737  35.03811419  26.82984649\n",
            " 151.29003228 -66.03919277 206.12991267  89.24267891 103.07831564]\n"
          ]
        }
      ]
    },
    {
      "cell_type": "code",
      "source": [
        "plt.scatter(x[:,0], y, color='blue', label='Actual')\n",
        "plt.scatter(x[:,0], y_pred, color='red', marker='x', label='Predicted')\n",
        "plt.title('Multiple Linear Regression (Feature 1 vs Target)')\n",
        "plt.xlabel('Feature 1')\n",
        "plt.ylabel('Target')\n",
        "plt.legend()\n",
        "plt.grid(True)\n",
        "plt.show()\n"
      ],
      "metadata": {
        "colab": {
          "base_uri": "https://localhost:8080/",
          "height": 472
        },
        "id": "vzh21oP3h9jb",
        "outputId": "dc93daf7-8cba-42ff-c6a3-49ead420b613"
      },
      "execution_count": 81,
      "outputs": [
        {
          "output_type": "display_data",
          "data": {
            "text/plain": [
              "<Figure size 640x480 with 1 Axes>"
            ],
            "image/png": "[encoded data removed]"
          },
          "metadata": {}
        }
      ]
    },
    {
      "cell_type": "code",
      "source": [
        "from sklearn.metrics import mean_squared_error, mean_absolute_error, r2_score\n",
        "\n",
        "mse = mean_squared_error(y, y_pred)\n",
        "rmse = np.sqrt(mse)\n",
        "mae = mean_absolute_error(y, y_pred)\n",
        "r2 = r2_score(y, y_pred)\n",
        "\n",
        "# Print results\n",
        "print(\"MSE:\", mse)\n",
        "print(\"RMSE:\", rmse)\n",
        "print(\"MAE:\", mae)\n",
        "print(\"R² Score:\", r2)"
      ],
      "metadata": {
        "colab": {
          "base_uri": "https://localhost:8080/"
        },
        "id": "CbDWwVW8jEOh",
        "outputId": "f6df8ac8-12f1-420b-d6d7-dcc7d2c54ea3"
      },
      "execution_count": 82,
      "outputs": [
        {
          "output_type": "stream",
          "name": "stdout",
          "text": [
            "MSE: 100.70654149779219\n",
            "RMSE: 10.035264894251283\n",
            "MAE: 7.897031446189349\n",
            "R² Score: 0.9818249824413999\n"
          ]
        }
      ]
    }
  ]
}